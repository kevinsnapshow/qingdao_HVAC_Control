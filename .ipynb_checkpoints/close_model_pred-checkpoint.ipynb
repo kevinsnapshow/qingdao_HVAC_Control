{
 "cells": [
  {
   "cell_type": "code",
   "execution_count": 1,
   "metadata": {},
   "outputs": [],
   "source": [
    "import os\n",
    "import datetime\n",
    "import pandas as pd\n",
    "import numpy as np\n",
    "import matplotlib.pyplot as plt\n",
    "from sklearn.externals import joblib\n",
    "from joblib import dump, load\n",
    "\n",
    "from sklearn.metrics import mean_squared_error, r2_score"
   ]
  },
  {
   "cell_type": "code",
   "execution_count": 2,
   "metadata": {},
   "outputs": [],
   "source": [
    "def load_model_predict(data_input,safety_factor): \n",
    "    \n",
    "#     today_string = datetime.datetime.today().strftime('%Y_%m_%d')\n",
    "    model = load('model/close_Δt_modelSelected_'+ today_string + '.joblib') \n",
    "    \n",
    "    scaler_file = \"model/close_Δt_model_scaler.save\"\n",
    "    scaler = joblib.load(scaler_file) \n",
    "    \n",
    "    data_input_transform = scaler.transform(data_input)\n",
    "    Δt_pred = model.predict(data_input_transform) + safety_factor*60\n",
    "    \n",
    "    return Δt_pred"
   ]
  },
  {
   "cell_type": "code",
   "execution_count": 3,
   "metadata": {},
   "outputs": [],
   "source": [
    "def load_test_data(X_path, y_path, safety_factor):\n",
    "    \n",
    "#     global X_input, y_input\n",
    "    X_input = pd.read_csv(X_path).set_index(keys = '关机时间')\n",
    "    y_input = pd.read_csv(y_path, header=None)[1]\n",
    "    \n",
    "    y_pred = load_model_predict(X_input,safety_factor)\n",
    "    mse_score = mean_squared_error(y_pred/60, y_input/60)\n",
    "    \n",
    "    df_y_input = pd.DataFrame(data=y_input.values, index=X_input.index, columns=['Δt_true'])\n",
    "    df_y_pred = pd.DataFrame(data=y_pred, index=X_input.index, columns=['Δt_predict'])\n",
    "    \n",
    "    return df_y_pred, df_y_input, X_input, mse_score"
   ]
  },
  {
   "cell_type": "code",
   "execution_count": 4,
   "metadata": {},
   "outputs": [],
   "source": [
    "def test_HongSiEntryEndTime_transform(zhisi_path,df_concat):\n",
    "\n",
    "    hongsi = pd.read_csv(zhisi_path, encoding='utf-8')\n",
    "    hongsi.EntryEndTime = pd.to_datetime(hongsi.EntryEndTime)\n",
    "    \n",
    "    # 根据每一个预测的脱离时间点，找到前后的\n",
    "    hongsi_last_time_pred =[]\n",
    "    for i in range(len(df_concat.Δt_predict)):\n",
    "        hongsi_end=hongsi['EntryEndTime'][hongsi['EntryEndTime'] <= df_concat['预测脱离标准时间点'][i]].max()\n",
    "        hongsi_last_time_pred.append(hongsi_end)\n",
    "\n",
    "    hongsi_end_next_pred=[]\n",
    "    for i in range(len(hongsi_last_time_pred)):\n",
    "        hongsi_end_next_pred.append(hongsi['EntryEndTime'][hongsi['EntryEndTime'] > hongsi_last_time_pred[i]].min())\n",
    "\n",
    "    hongsi_end_next2_pred=[]\n",
    "    for i in range(len(hongsi_end_next_pred)):\n",
    "        hongsi_end_next2_pred.append(hongsi['EntryEndTime'][hongsi['EntryEndTime'] > hongsi_end_next_pred[i]].min())\n",
    "\n",
    "    hongsi_lasttime=[]\n",
    "    for i in range(len(df_concat)):\n",
    "        if (hongsi_end_next_pred[i] - hongsi_last_time_pred[i]) >= pd.Timedelta(hours=12):\n",
    "            hongsi_lasttime.append(hongsi_last_time_pred[i])\n",
    "        elif (hongsi_end_next2_pred[i]-hongsi_end_next_pred[i]) >= pd.Timedelta(hours=12):\n",
    "            hongsi_lasttime.append(hongsi_end_next_pred[i])\n",
    "\n",
    "    df_concat['哄切丝_最后开始时间'] = hongsi_lasttime\n",
    "    \n",
    "    return df_concat"
   ]
  },
  {
   "cell_type": "code",
   "execution_count": 5,
   "metadata": {},
   "outputs": [],
   "source": [
    "def test_result_pbi(X_path,y_path,safety_factor,zhisi_path,df_concat_test):\n",
    "\n",
    "    df_concat_test['现在时间'] = pd.to_timedelta(df_concat_test['Δt_predict'],unit='s').index.astype('datetime64[ns]')\n",
    "\n",
    "    df_concat_test['Δt_predict'] = pd.to_timedelta(df_concat_test['Δt_predict'],unit='s')\n",
    "    df_concat_test['Δt_true'] = pd.to_timedelta(df_concat_test['Δt_true'],unit='s')\n",
    "\n",
    "    # 增加脱离标准时间点维度\n",
    "    df_concat_test['预测脱离标准时间点'] = df_concat_test['Δt_predict'] + df_concat_test['现在时间']\n",
    "    df_concat_test['实际脱离标准时间点'] = df_concat_test['Δt_true'] + df_concat_test['现在时间']\n",
    "    \n",
    "    # 引入烘丝计划时间\n",
    "    df_concat_test = test_HongSiEntryEndTime_transform(zhisi_path,df_concat_test)\n",
    "    df_concat_test.to_csv('csv_pbi/close_data_' + today_string + '.csv',index=True)\n",
    "    \n",
    "    return df_concat_test"
   ]
  },
  {
   "cell_type": "code",
   "execution_count": 6,
   "metadata": {},
   "outputs": [],
   "source": [
    "# (X_input.index.astype('datetime64[ns]')+ pd.to_timedelta(df_y_pred['Δt_predict'],unit='s')).reset_index()[0][0]"
   ]
  },
  {
   "cell_type": "code",
   "execution_count": 7,
   "metadata": {},
   "outputs": [],
   "source": [
    "def real_time_pred(df_X_realtime,safety_factor,EntryEndTime):\n",
    "        \n",
    "    y_pred = load_model_predict(df_X_realtime,safety_factor)\n",
    "    df_y_pred = pd.DataFrame(data=y_pred, index=df_X_realtime, columns=['Δt_predict'])\n",
    "    \n",
    "    timestamp_pred = (X_input.index.astype('datetime64[ns]')+ pd.to_timedelta(df_y_pred['Δt_predict'],unit='s')).reset_index()[0]\n",
    "    \n",
    "    if timestamp_pred <= EntryEndTime:\n",
    "        action = 1  # 1代表继续开\n",
    "    else:\n",
    "        action = 0  # 0代表关闭\n",
    "    \n",
    "    return action"
   ]
  },
  {
   "cell_type": "code",
   "execution_count": 8,
   "metadata": {
    "scrolled": true
   },
   "outputs": [
    {
     "name": "stderr",
     "output_type": "stream",
     "text": [
      "C:\\ProgramData\\Anaconda3\\lib\\site-packages\\ipykernel_launcher.py:9: DataConversionWarning: Data with input dtype int64, float64 were all converted to float64 by StandardScaler.\n",
      "  if __name__ == '__main__':\n"
     ]
    }
   ],
   "source": [
    "if __name__==\"__main__\":\n",
    "    \n",
    "    global today_string\n",
    "    today_string = datetime.datetime.today().strftime('%Y_%m_%d')\n",
    "    \n",
    "    X_path = 'data_X_y/Close_X_'+ today_string + '.csv'\n",
    "    y_path = 'data_X_y/Close_y_'+ today_string + '.csv'\n",
    "    safety_factor = 0.5\n",
    "    zhisi_path = \"data\\product_plan\\hongyesi_order0529.csv\"\n",
    "    \n",
    "    df_y_pred, df_y_input, X_input, mse_score = load_test_data(X_path, y_path, safety_factor)\n",
    "    df_concat_test=pd.concat([X_input,df_y_input,df_y_pred],axis=1)\n",
    "    \n",
    "    df_concat_test = test_result_pbi(X_path,y_path,safety_factor,zhisi_path,df_concat_test)\n",
    "    \n",
    "    # df_X_realtime =XXXX\n",
    "    # EntryEndTime = XXXX\n",
    "    # action = real_time_pred(df_X_realtime,safety_factor,EntryEndTime)"
   ]
  },
  {
   "cell_type": "code",
   "execution_count": null,
   "metadata": {},
   "outputs": [],
   "source": []
  },
  {
   "cell_type": "code",
   "execution_count": null,
   "metadata": {},
   "outputs": [],
   "source": []
  }
 ],
 "metadata": {
  "kernelspec": {
   "display_name": "Python 3",
   "language": "python",
   "name": "python3"
  },
  "language_info": {
   "codemirror_mode": {
    "name": "ipython",
    "version": 3
   },
   "file_extension": ".py",
   "mimetype": "text/x-python",
   "name": "python",
   "nbconvert_exporter": "python",
   "pygments_lexer": "ipython3",
   "version": "3.7.3"
  }
 },
 "nbformat": 4,
 "nbformat_minor": 2
}
