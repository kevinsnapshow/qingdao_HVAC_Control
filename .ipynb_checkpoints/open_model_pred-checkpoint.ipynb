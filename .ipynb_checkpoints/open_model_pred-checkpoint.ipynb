{
 "cells": [
  {
   "cell_type": "code",
   "execution_count": 1,
   "metadata": {},
   "outputs": [],
   "source": [
    "import os\n",
    "import datetime\n",
    "import pandas as pd\n",
    "import numpy as np\n",
    "import time\n",
    "import matplotlib.pyplot as plt\n",
    "from sklearn.externals import joblib\n",
    "from joblib import dump, load\n",
    "\n",
    "from sklearn.metrics import mean_squared_error, r2_score"
   ]
  },
  {
   "cell_type": "code",
   "execution_count": 2,
   "metadata": {},
   "outputs": [],
   "source": [
    "def load_model_predict(data_input,safety_factor): \n",
    "\n",
    "    today_string = datetime.datetime.today().strftime('%Y_%m_%d')\n",
    "    model = load('model/open_Δt_modelSelected_'+ today_string + '.joblib') \n",
    "    \n",
    "    scaler_file = \"model/open_Δt_model_scaler.save\"\n",
    "    scaler = joblib.load(scaler_file) \n",
    "    \n",
    "    data_input_transform = scaler.transform(data_input)\n",
    "    \n",
    "    Δt_pred = model.predict(data_input_transform) + safety_factor*3600\n",
    "    \n",
    "    return Δt_pred"
   ]
  },
  {
   "cell_type": "code",
   "execution_count": 3,
   "metadata": {},
   "outputs": [],
   "source": [
    "def load_test_data(X_path, y_path, safety_factor):\n",
    "    \n",
    "    global X_input, y_input\n",
    "    X_input = pd.read_csv(X_path).set_index(keys = '时间')\n",
    "    y_input = pd.read_csv(y_path, header=None)\n",
    "    \n",
    "    y_pred = load_model_predict(X_input,safety_factor)\n",
    "    \n",
    "    # print预测值\n",
    "    y_pred_timedelta=[]\n",
    "    for i in y_pred:\n",
    "        y_pred_timedelta.append(pd.Timedelta(seconds = i))\n",
    "\n",
    "    timestamp_pred = pd.to_datetime(X_input.index) + pd.Series(y_pred_timedelta)\n",
    "\n",
    "    date = timestamp_pred.dt.date\n",
    "    year = timestamp_pred.dt.year\n",
    "    month = timestamp_pred.dt.month\n",
    "    day = timestamp_pred.dt.day\n",
    "    hour = timestamp_pred.dt.hour\n",
    "    minute = timestamp_pred.dt.minute\n",
    "    second = timestamp_pred.dt.second\n",
    "    \n",
    "    # performance_evaluation & 合并PBI展现宽表\n",
    "    mse_score = mean_squared_error(y_pred/3600, y_input/3600)\n",
    "    \n",
    "    y_input.index = X_input.index\n",
    "    y_input.columns = ['Δt_true']\n",
    "    \n",
    "    df_y_pred = pd.DataFrame(data=y_pred, index=X_input.index, columns=['Δt_predict'])\n",
    "    \n",
    "    return date, year, month, day, hour, minute, second, timestamp_pred, df_y_pred, y_input, X_input, mse_score"
   ]
  },
  {
   "cell_type": "code",
   "execution_count": 4,
   "metadata": {},
   "outputs": [
    {
     "name": "stderr",
     "output_type": "stream",
     "text": [
      "C:\\ProgramData\\Anaconda3\\lib\\site-packages\\ipykernel_launcher.py:9: DataConversionWarning: Data with input dtype int64, float64 were all converted to float64 by StandardScaler.\n",
      "  if __name__ == '__main__':\n"
     ]
    }
   ],
   "source": [
    "if __name__==\"__main__\":\n",
    "    \n",
    "    # 引入预测CSV数据：\n",
    "    today_string = datetime.datetime.today().strftime('%Y_%m_%d')\n",
    "    X_path = 'data_X_y/Open_X_'+ today_string + '.csv'\n",
    "    # 引入测试CSV真实数据\n",
    "    y_path = 'data_X_y/Open_y_'+ today_string + '.csv'\n",
    "    \n",
    "    safety_factor=0.5\n",
    "    \n",
    "    date, year, month, day, hour, minute, second, timestamp_pred, df_y_pred, y_input, X_input, mse_score = load_test_data(X_path, y_path, safety_factor)\n",
    "    \n",
    "    \n",
    "    # 合并预测数据和真实数据\n",
    "    df_concat=pd.concat([X_input,y_input,df_y_pred],axis=1)\n",
    "    # 导出合并数据为CSV，用于PBI展现\n",
    "    df_concat.to_csv('csv_pbi/open_data_' + today_string + '.csv',index=True)\n",
    "    \n",
    "#     entry_ending_time= XXXXXXX\n",
    "    \n",
    "#     # 开机命令指令\n",
    "#     if timestamp_pred > entry_ending_time:\n",
    "#         action_output=1\n",
    "#     else:\n",
    "#         action_output=0\n",
    "    "
   ]
  },
  {
   "cell_type": "code",
   "execution_count": null,
   "metadata": {},
   "outputs": [],
   "source": []
  },
  {
   "cell_type": "code",
   "execution_count": null,
   "metadata": {},
   "outputs": [],
   "source": []
  }
 ],
 "metadata": {
  "kernelspec": {
   "display_name": "Python 3",
   "language": "python",
   "name": "python3"
  },
  "language_info": {
   "codemirror_mode": {
    "name": "ipython",
    "version": 3
   },
   "file_extension": ".py",
   "mimetype": "text/x-python",
   "name": "python",
   "nbconvert_exporter": "python",
   "pygments_lexer": "ipython3",
   "version": "3.7.3"
  }
 },
 "nbformat": 4,
 "nbformat_minor": 2
}
