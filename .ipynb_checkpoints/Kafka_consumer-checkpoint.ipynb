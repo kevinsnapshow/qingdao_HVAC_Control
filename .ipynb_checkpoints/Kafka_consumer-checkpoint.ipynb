{
 "cells": [
  {
   "cell_type": "code",
   "execution_count": null,
   "metadata": {},
   "outputs": [],
   "source": [
    "# !pip --default -timeout=100 install kafka-python\n",
    "# !pip install pyhdfs\n",
    "import numpy as np\n",
    "import pandas as pd\n",
    "import time\n",
    "from datetime import datetime, timedelta\n",
    "import json\n",
    "import pyhdfs"
   ]
  },
  {
   "cell_type": "code",
   "execution_count": null,
   "metadata": {},
   "outputs": [],
   "source": [
    "# #读取HDFS里的数据\n",
    "# from pyhdfs import HdfsClient\n",
    "# client=HdfsClient(hosts='10.100.100.100:9870') #hdfs地址\n",
    "# res= client.open('/MODEL_DL_KZS5_CY/MODEL_DL_KZS5_CY20-06-29-14-40-00.1593412801584.log') #hdfs文件路径,根目录/\n",
    "# df= pd.read_csv(res) #参数为源文件,编码,分隔符\n",
    "# # for r in res:\n",
    "# #     line=str(r)#open后是二进制,str()转换为字符串并转码\n",
    "# #     print(line)"
   ]
  },
  {
   "cell_type": "code",
   "execution_count": null,
   "metadata": {},
   "outputs": [],
   "source": [
    "#消费kafka中最新的log文件数据\n",
    "from kafka import KafkaConsumer\n",
    "\n",
    "consumer = KafkaConsumer('MODEL_DL_KZS5_CY_KEP',bootstrap_servers=['10.100.100.105'],\n",
    "                         auto_offset_reset='latest',\n",
    "                         enable_auto_commit=True, # 自动提交消费数据的offset\n",
    "                         consumer_timeout_ms= 10000, # 如果1秒内kafka中没有可供消费的数据，自动退出\n",
    "                         value_deserializer=lambda m: json.loads(m.decode('ascii')),\n",
    "                         client_id='consumer_-python3'\n",
    "                         )\n",
    "res = consumer.poll(10)\n",
    "# consumer.seek_to_end()\n",
    "\n",
    "for message in consumer:\n",
    "    most_recent_message_value = message.value\n",
    "    break\n",
    "#     #注意: message ,value都是原始的字节数据，需要decode\n",
    "#     #例如: message.value.decode('utf-8')\n",
    "#     [#完成对每条数据中的操作]\n",
    "# #     print (\"%s:%d:%d: key=%s value=%s\" %s (message.topic, message.partition,\n",
    "# #                                                message.offset, message.key,\n",
    "# #                                                message.value))\n",
    "#     print(message.topic, message.partition, message.offset, message.value)\n",
    "#     print(message.topic, message.partition, message.offset, message.value)"
   ]
  },
  {
   "cell_type": "code",
   "execution_count": null,
   "metadata": {},
   "outputs": [],
   "source": []
  },
  {
   "cell_type": "code",
   "execution_count": null,
   "metadata": {},
   "outputs": [],
   "source": []
  },
  {
   "cell_type": "code",
   "execution_count": null,
   "metadata": {},
   "outputs": [],
   "source": [
    "# Change the datetime format to the timestamps\n",
    "df = pd.DataFrame(index=['id', 'v', 'q', 't'])\n",
    "\n",
    "for i in range(len(most_recent_message_value['values'])):\n",
    "    df_temp = pd.DataFrame(most_recent_message_value['values'][i].items()).set_index(keys=0)\n",
    "    df = pd.concat([df_temp, df], axis=1, join='inner')\n",
    "    \n",
    "df.columns = df.loc['id'].values\n",
    "df = df.drop(df.index[0]).T\n",
    "\n",
    "df = df[~df['v'].isin(['True','False'])]\n",
    "\n",
    "df['v'] = df['v'].astype(float, inplace=True)\n",
    "df['q'] = df['q'].astype(str, inplace=True)\n",
    "df['t'] = df['t'].astype('int64', inplace=True)\n",
    "\n",
    "\n",
    "df['t'] = df['t']*0.001\n",
    "\n",
    "timestamp=[]\n",
    "for i in df['t']:\n",
    "    tmObject = time.localtime(i)\n",
    "    timestamp.append(pd.Timestamp(time.strftime(\"%Y-%m-%d %X\", tmObject)))\n",
    "    \n",
    "df['time'] = timestamp\n",
    "df = df.drop(['t'], axis=1)"
   ]
  },
  {
   "cell_type": "code",
   "execution_count": null,
   "metadata": {},
   "outputs": [],
   "source": [
    "df"
   ]
  },
  {
   "cell_type": "code",
   "execution_count": null,
   "metadata": {},
   "outputs": [],
   "source": [
    "kepware_plc_pivot = pd.read_csv('data/dianwei/kepware_plc_pivot_20200701.csv')"
   ]
  },
  {
   "cell_type": "code",
   "execution_count": null,
   "metadata": {},
   "outputs": [],
   "source": [
    "# 导入点位pivot表,选取需要的点位，并配对选区的点位\n",
    "kepware_plc_pivot = pd.read_csv('data/dianwei/kepware_plc_pivot_20200701.csv')\n",
    "Kzs5_plc_pivot = kepware_plc_pivot[kepware_plc_pivot['设备编码'] =]\n",
    "df_dianwei_select_pivot = kepware_plc_pivot[df_dianwei['kepware_plc_pivot'].isin(['测点5湿度',\n",
    "'测点5温度',\n",
    "'测点4湿度',\n",
    "'测点4温度',\n",
    "'测点3湿度',\n",
    "'测点3温度',\n",
    "'测点2湿度',\n",
    "'测点2温度',\n",
    "'测点1湿度',\n",
    "'测点1温度',\n",
    "'测点1温度',\n",
    "'测点1湿度',\n",
    "'回风湿度',\n",
    "'回风温度',\n",
    "'送风湿度',\n",
    "'送风温度',\n",
    "'新风湿度',\n",
    "'新风温度',\n",
    "'室外湿度',\n",
    "'室外温度',\n",
    "'新风阀开度反馈',\n",
    "'混风阀开度反馈',\n",
    "'表冷阀门开度反馈',\n",
    "'加湿阀开度反馈',\n",
    "'加热阀门开度反馈'\n",
    "])]\n",
    "\n",
    "df_dianwei_select = df_dianwei_select.set_index('点位')\n",
    "df_dianwei_final = pd.concat([df, df_dianwei_select], axis=1, join='inner')"
   ]
  },
  {
   "cell_type": "code",
   "execution_count": null,
   "metadata": {},
   "outputs": [],
   "source": [
    "df_dianwei_final"
   ]
  },
  {
   "cell_type": "code",
   "execution_count": null,
   "metadata": {},
   "outputs": [],
   "source": [
    "df_dianwei_TH = df_dianwei_final[df_dianwei_final.index.isin(['DL_KZS5_CY_TAT7205-H5','DL_KZS5_CY_TAT7205-T5',\n",
    "       'DL_KZS5_CY_TAT7205-H4', 'DL_KZS5_CY_TAT7205-T4',\n",
    "       'DL_KZS5_CY_TAT7205-H3', 'DL_KZS5_CY_TAT7205-T3',\n",
    "       'DL_KZS5_CY_TAT7205-H2', 'DL_KZS5_CY_TAT7205-T2',\n",
    "       'DL_KZS5_CY_TAT7205-H1', 'DL_KZS5_CY_TAT7205-T1'])].T"
   ]
  },
  {
   "cell_type": "code",
   "execution_count": null,
   "metadata": {},
   "outputs": [],
   "source": [
    "df_input = df_dianwei_final.T\n",
    "df_input.columns= df_dianwei_final['点位名称']\n",
    "\n",
    "\n",
    "df_input['Avg_H']=''\n",
    "df_input['Avg_T']=''\n",
    "df_input['时间']=''\n",
    "\n",
    "if df_dianwei_final.q.all() == 'true':\n",
    "    df_input.loc['v']['Avg_H'] = df_dianwei_TH.loc['v'].iloc[[0,2,4,6,8]].mean()\n",
    "    df_input.loc['v']['Avg_T'] = df_dianwei_TH.loc['v'].iloc[[1,3,5,7,9]].mean()\n",
    "    df_input['时间'] = df_dianwei_TH.loc['time'].mode()[0]\n",
    "\n",
    "df_input.drop(['q','time','点位名称'], inplace= True)\n",
    "df_input.drop(df_dianwei_TH.loc['点位名称'], axis=1, inplace= True)\n",
    "df_input.reset_index(drop=True)\n",
    "df_input.set_index('时间',inplace=True)"
   ]
  },
  {
   "cell_type": "code",
   "execution_count": null,
   "metadata": {},
   "outputs": [],
   "source": [
    "df_input"
   ]
  },
  {
   "cell_type": "code",
   "execution_count": null,
   "metadata": {},
   "outputs": [],
   "source": []
  },
  {
   "cell_type": "code",
   "execution_count": null,
   "metadata": {},
   "outputs": [],
   "source": []
  },
  {
   "cell_type": "code",
   "execution_count": null,
   "metadata": {},
   "outputs": [],
   "source": []
  },
  {
   "cell_type": "code",
   "execution_count": null,
   "metadata": {},
   "outputs": [],
   "source": [
    "# rom kafka import KafkaConsumer\n",
    "\n",
    "# consumer = KafkaConsumer('MODEL_DL_KZS5_CY',bootstrap_servers=['10.100.100.105'],\n",
    "#                          auto_offset_reset='latest',\n",
    "#                          enable_auto_commit=True, # 自动提交消费数据的offset\n",
    "#                          consumer_timeout_ms= 10000, 2# 如果1秒内kafka中没有可供消费的数据，自动退出\n",
    "#                          value_deserializer=lambda m: json.loads(m.decode('ascii')),\n",
    "#                          client_id='consumer-python3'\n",
    "#                          )\n",
    "# res = consumer.poll(10)\n",
    "# consumer.seek_to_end()\n",
    "\n",
    "# for message in consumer:\n",
    "#     most_recent_message_value = message.value\n",
    "#     break\n",
    "# #     #注意: message ,value都是原始的字节数据，需要decode"
   ]
  },
  {
   "cell_type": "code",
   "execution_count": null,
   "metadata": {},
   "outputs": [],
   "source": []
  },
  {
   "cell_type": "code",
   "execution_count": null,
   "metadata": {},
   "outputs": [],
   "source": []
  },
  {
   "cell_type": "code",
   "execution_count": null,
   "metadata": {},
   "outputs": [],
   "source": []
  },
  {
   "cell_type": "code",
   "execution_count": null,
   "metadata": {},
   "outputs": [],
   "source": []
  },
  {
   "cell_type": "code",
   "execution_count": null,
   "metadata": {},
   "outputs": [],
   "source": [
    "dianwei = pd.DataFrame(df.columns.values)\n",
    "dianwei.to_csv('dianwei.csv')"
   ]
  },
  {
   "cell_type": "code",
   "execution_count": null,
   "metadata": {},
   "outputs": [],
   "source": [
    "# print(message.topic, message.partition, message.offset, message.value)"
   ]
  },
  {
   "cell_type": "code",
   "execution_count": null,
   "metadata": {},
   "outputs": [],
   "source": [
    "# i = 0\n",
    "# for i in range(600):  #模拟6w数据\n",
    "#     while i < 100:  #每秒100条\n",
    "#         # msg = '{\"id\":\"K2_Z5.K2_Z5.K2_Z5GRP1DIAGSTART2\",\"v\":-1.783128E+22,\"q\":true,\"t\":623}'\n",
    "#         msg= random.choice(data), datetime.datetime.now() #随机数据\n",
    "#         print(msg)\n",
    "#         producer.send('iot-kafka', value=msg[0].encode('utf-8')) #发送到laoshan-kafka\n",
    "#         i += 1\n",
    "#         # time.sleep(1)\\\n",
    "\n",
    "#     time.sleep(1)"
   ]
  }
 ],
 "metadata": {
  "kernelspec": {
   "display_name": "Python 3",
   "language": "python",
   "name": "python3"
  },
  "language_info": {
   "codemirror_mode": {
    "name": "ipython",
    "version": 3
   },
   "file_extension": ".py",
   "mimetype": "text/x-python",
   "name": "python",
   "nbconvert_exporter": "python",
   "pygments_lexer": "ipython3",
   "version": "3.7.3"
  }
 },
 "nbformat": 4,
 "nbformat_minor": 2
}
