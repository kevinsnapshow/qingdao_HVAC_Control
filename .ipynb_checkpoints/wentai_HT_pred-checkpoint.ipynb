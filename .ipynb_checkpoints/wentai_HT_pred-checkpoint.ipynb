{
 "cells": [
  {
   "cell_type": "code",
   "execution_count": 1,
   "metadata": {},
   "outputs": [],
   "source": [
    "import os\n",
    "from math import sqrt\n",
    "import datetime\n",
    "import time\n",
    "import pandas as pd\n",
    "import numpy as np\n",
    "import matplotlib.pyplot as plt\n",
    "import matplotlib.dates as mdates\n",
    "from matplotlib.dates import DateFormatter\n",
    "\n",
    "from joblib import dump, load\n",
    "from sklearn.externals import joblib"
   ]
  },
  {
   "cell_type": "markdown",
   "metadata": {},
   "source": [
    "#### 假设导入实时预测数据位历史数据："
   ]
  },
  {
   "cell_type": "code",
   "execution_count": 2,
   "metadata": {},
   "outputs": [],
   "source": [
    "def import_dataset(n):\n",
    "    \n",
    "    # today_string = datetime.datetime.today().strftime('%Y_%m_%d')\n",
    "    # df = pd.read_csv('open_data_pre_2020_06_10.csv')\n",
    "    \n",
    "    global today_string\n",
    "    today_string = datetime.datetime.today().strftime('%Y_%m_%d')\n",
    "    filename = 'wentai_data_pre/wentai_data_' + today_string + '.csv'\n",
    "    df = pd.read_csv(filename)\n",
    "    df['时间'] = pd.to_datetime(df['时间'])\n",
    "    df= df.set_index('时间')\n",
    "    df = df.astype(float)\n",
    "    \n",
    "    n=10000\n",
    "    df_predict = df.iloc[n:n+2,:]\n",
    "\n",
    "    return df_predict"
   ]
  },
  {
   "cell_type": "markdown",
   "metadata": {},
   "source": [
    "#### 时间序列数据转化为监督学习"
   ]
  },
  {
   "cell_type": "code",
   "execution_count": 3,
   "metadata": {},
   "outputs": [],
   "source": [
    "def series_to_supervised(df, n_in=1, n_out=1, dropnan=True):\n",
    "    \"\"\"\n",
    "    将时间序列重构为监督学习数据集.\n",
    "    参数:\n",
    "        data: 观测值序列，类型为列表或Numpy数组。\n",
    "        n_in: 输入的滞后观测值(X)长度。\n",
    "        n_out: 输出观测值(y)的长度。\n",
    "        dropnan: 是否丢弃含有NaN值的行，类型为布尔值。\n",
    "    返回值:\n",
    "        经过重组后的Pandas DataFrame序列.\n",
    "    \"\"\"\n",
    "    n_vars = 1 if type(df) is list else df.shape[1]\n",
    "#     df = DataFrame(data)\n",
    "    cols, names = list(), list()\n",
    "    # 输入序列 (t-n, ... t-1)\n",
    "    for i in range(n_in, 0, -1):\n",
    "        cols.append(df.shift(i))\n",
    "        names += [(df.columns[j]+'_t-%d' % (i)) for j in range(n_vars)]\n",
    "#         names += [('var%d(t-%d)' % (j+1, i)) for j in range(n_vars)]\n",
    "    # 预测序列 (t, t+1, ... t+n)\n",
    "    for i in range(0, n_out):\n",
    "        cols.append(df.shift(-i))\n",
    "        if i == 0:\n",
    "            names += [(df.columns[j]+'_t') for j in range(n_vars)]\n",
    "        else:\n",
    "            names += [(df.columns[j]+'_t+%d' % i) for j in range(n_vars)]\n",
    "    # 将列名和数据拼接在一起\n",
    "    agg = pd.concat(cols, axis=1)\n",
    "    agg.columns = names\n",
    "    # 丢弃含有NaN值的行\n",
    "    agg.dropna(inplace=True)\n",
    "    return agg"
   ]
  },
  {
   "cell_type": "code",
   "execution_count": 4,
   "metadata": {},
   "outputs": [],
   "source": [
    "def data_wentai_transform(df,n_in=1, n_out=1):\n",
    "\n",
    "    # 把时间序列重构为监督学习维度. 在这里，我们想要用前一和当前时间步的结果去预测未来一次的结果\n",
    "    # 选取稳态阶段符合工艺标准的数据\n",
    "    data_wentai=[]\n",
    "\n",
    "    df_time_series = series_to_supervised(df,n_in=1, n_out=1, dropnan=True)\n",
    "\n",
    "    data_wentai.append(df_time_series)\n",
    "    df_wentai = pd.concat(data_wentai)\n",
    "    \n",
    "    return df_wentai"
   ]
  },
  {
   "cell_type": "code",
   "execution_count": 5,
   "metadata": {},
   "outputs": [],
   "source": [
    "def data_pred(df_wentai):\n",
    "\n",
    "    today_string = datetime.datetime.today().strftime('%Y_%m_%d')\n",
    "    model = load('model/wentai_lstm_'+ today_string + '.joblib') \n",
    "\n",
    "    scaler_file = \"model/wentai_HT_scaler.save\"\n",
    "    scaler = joblib.load(scaler_file) \n",
    "\n",
    "    trans_data = np.concatenate((df_wentai, df_wentai[['加湿蒸汽阀位反馈_t','加热蒸汽阀位反馈_t', '新风阀门反馈_t',\n",
    "       '混风阀门反馈_t', '表冷阀开度反馈_t','送风温度_t', '送风湿度_t']]),axis=1)\n",
    "\n",
    "    test_X_scaled = (scaler.transform(trans_data))[:,:-7]\n",
    "\n",
    "    test_X_3D = test_X_scaled.reshape((test_X_scaled.shape[0], 1, test_X_scaled.shape[1]))\n",
    "\n",
    "    yhat = model.predict(test_X_3D)\n",
    "\n",
    "    inv_yhat = np.concatenate((test_X_scaled, yhat), axis=1)\n",
    "    inv_yhat = scaler.inverse_transform(inv_yhat)\n",
    "    \n",
    "    return inv_yhat"
   ]
  },
  {
   "cell_type": "code",
   "execution_count": 6,
   "metadata": {},
   "outputs": [
    {
     "name": "stderr",
     "output_type": "stream",
     "text": [
      "C:\\ProgramData\\Anaconda3\\lib\\site-packages\\ipykernel_launcher.py:3: DeprecationWarning: time.clock has been deprecated in Python 3.3 and will be removed from Python 3.8: use time.perf_counter or time.process_time instead\n",
      "  This is separate from the ipykernel package so we can avoid doing imports until\n",
      "Using TensorFlow backend.\n"
     ]
    },
    {
     "name": "stdout",
     "output_type": "stream",
     "text": [
      "WARNING:tensorflow:From C:\\ProgramData\\Anaconda3\\lib\\site-packages\\keras\\backend\\tensorflow_backend.py:422: The name tf.global_variables is deprecated. Please use tf.compat.v1.global_variables instead.\n",
      "\n",
      "加湿蒸汽阀位反馈预测值: 81.956\n",
      "加热蒸汽阀位反馈预测值: 0.461\n",
      "新风阀位反馈预测值: 41.018\n",
      "混风阀位反馈预测值: 94.153\n",
      "表冷阀位反馈预测值: 0.075\n",
      "送风温度预测值: 28.949\n",
      "送风湿度预测值: 66.998\n",
      "\n",
      "完成对实时数据的预测\n",
      "Running time: 7.8160613 Seconds\n"
     ]
    },
    {
     "name": "stderr",
     "output_type": "stream",
     "text": [
      "C:\\ProgramData\\Anaconda3\\lib\\site-packages\\ipykernel_launcher.py:38: DeprecationWarning: time.clock has been deprecated in Python 3.3 and will be removed from Python 3.8: use time.perf_counter or time.process_time instead\n"
     ]
    }
   ],
   "source": [
    "if __name__==\"__main__\":\n",
    "    \n",
    "    start =time.clock()\n",
    "    \n",
    "    # input the data to be predicted     \n",
    "    n=10000\n",
    "    df_predict = import_dataset(n)\n",
    "    \n",
    "    # 时间序列转化\n",
    "    df_wentai = data_wentai_transform(df_predict,n_in=1, n_out=1)\n",
    "\n",
    "    inv_yhat = data_pred(df_wentai)\n",
    "\n",
    "    加湿蒸汽阀位反馈预测值 = inv_yhat[:,-7][0]\n",
    "    print('加湿蒸汽阀位反馈预测值: %.3f' % inv_yhat[:,-7][0])\n",
    "\n",
    "    加热蒸汽阀位反馈预测值 = inv_yhat[:,-6][0]\n",
    "    print('加热蒸汽阀位反馈预测值: %.3f' % inv_yhat[:,-6][0])\n",
    "\n",
    "    新风阀门反馈预测值 = inv_yhat[:,-5][0]\n",
    "    print('新风阀位反馈预测值: %.3f' % inv_yhat[:,-5][0])\n",
    "\n",
    "    混风阀门反馈预测值 = inv_yhat[:,-4][0]\n",
    "    print('混风阀位反馈预测值: %.3f' % inv_yhat[:,-4][0])\n",
    "\n",
    "    表冷阀门反馈预测值 = inv_yhat[:,-3][0]\n",
    "    print('表冷阀位反馈预测值: %.3f' % inv_yhat[:,-3][0])\n",
    "\n",
    "    送风温度预测值  = inv_yhat[:,-2][0]\n",
    "    print('送风温度预测值: %.3f' % inv_yhat[:,-2][0])\n",
    "\n",
    "    送风湿度预测值 = inv_yhat[:,-1][0]\n",
    "    print('送风湿度预测值: %.3f' % inv_yhat[:,-1][0])\n",
    "\n",
    "    \n",
    "    print('\\n'+'完成对实时数据的预测')\n",
    "    \n",
    "    end = time.clock()\n",
    "    print('Running time: %s Seconds'%(end-start))"
   ]
  },
  {
   "cell_type": "code",
   "execution_count": null,
   "metadata": {},
   "outputs": [],
   "source": []
  }
 ],
 "metadata": {
  "kernelspec": {
   "display_name": "Python 3",
   "language": "python",
   "name": "python3"
  },
  "language_info": {
   "codemirror_mode": {
    "name": "ipython",
    "version": 3
   },
   "file_extension": ".py",
   "mimetype": "text/x-python",
   "name": "python",
   "nbconvert_exporter": "python",
   "pygments_lexer": "ipython3",
   "version": "3.7.3"
  }
 },
 "nbformat": 4,
 "nbformat_minor": 2
}
