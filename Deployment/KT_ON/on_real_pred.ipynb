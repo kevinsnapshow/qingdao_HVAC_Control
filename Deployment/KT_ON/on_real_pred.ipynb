{
 "cells": [
  {
   "cell_type": "code",
   "execution_count": 1,
   "metadata": {},
   "outputs": [],
   "source": [
    "import os\n",
    "import datetime\n",
    "from datetime import datetime\n",
    "import time\n",
    "from time import mktime\n",
    "import pandas as pd\n",
    "import numpy as np\n",
    "\n",
    "import matplotlib.pyplot as plt\n",
    "from sklearn.externals import joblib\n",
    "from joblib import dump, load\n",
    "\n",
    "from sklearn.metrics import mean_squared_error, r2_score"
   ]
  },
  {
   "cell_type": "code",
   "execution_count": 2,
   "metadata": {},
   "outputs": [],
   "source": [
    "def real_time_data_pre(sample_data):\n",
    "    df = pd.DataFrame.from_dict(sample_data)\n",
    "\n",
    "    time_col = ['entryStartTime', 'time']\n",
    "    for i in range(len(time_col)):\n",
    "        ts=[]\n",
    "        for j in df[time_col[i]]:\n",
    "            time_local = time.localtime(j/1000)\n",
    "            ts.append(pd.to_datetime(datetime.fromtimestamp(mktime(time_local))))\n",
    "        df[time_col[i]] = ts\n",
    "        \n",
    "    df_col = ['time',\n",
    "      'supplyAirHumidity',\n",
    "      'supplyAirTemperature',\n",
    "      'returnAirHumidity',\n",
    "      'freshAirTemperature',\n",
    "      'freshAirHumidity',\n",
    "      'outdoorTemperature',\n",
    "      'outdoorHumidity',\n",
    "      'returnAirTemperature1',\n",
    "      'avgT',\n",
    "      'avgH',\n",
    "      'tempAfter0Hour',\n",
    "      'humiAfter0Hour',\n",
    "      'tempAfter1Hour',\n",
    "      'humiAfter1Hour',\n",
    "      'tempAfter2Hour',\n",
    "      'humiAfter2Hour',\n",
    "      'tempAfter3Hour',\n",
    "      'humiAfter3Hour',\n",
    "      'tempAfter4Hour',\n",
    "      'humiAfter4Hour']\n",
    "    \n",
    "    if all(df.blowerCurrent) == 0:\n",
    "        df_input = df[df_col]\n",
    "        # Set the humid in percentages value\n",
    "        df_input[df_input.columns[[-1,-3,-5,-7,-9]]] = df_input[df_input.columns[[-1,-3,-5,-7,-9]]]*100\n",
    "    else:\n",
    "        print('The electrical fan has been turned on')\n",
    "        \n",
    "    return df_input, df.entryStartTime"
   ]
  },
  {
   "cell_type": "code",
   "execution_count": 3,
   "metadata": {},
   "outputs": [],
   "source": [
    "def load_model_predict(today_string, data_input,safety_factor): \n",
    "\n",
    "    model = load('model/open_Δt_modelSelected_'+ today_string + '.joblib') \n",
    "    \n",
    "    scaler_file = \"model/open_Δt_model_scaler.save\"\n",
    "    scaler = joblib.load(scaler_file) \n",
    "    \n",
    "    data_input = data_input.set_index('time')\n",
    "    data_input_transform = scaler.transform(data_input)\n",
    "    \n",
    "    # timedelta预测值\n",
    "    Δt_pred = model.predict(data_input_transform) + safety_factor*3600\n",
    "    \n",
    "    # 转化为timestamp预测值\n",
    "    timestamp_pred = pd.to_datetime(data_input.index) + pd.Timedelta(seconds = Δt_pred[0])\n",
    "    \n",
    "    return Δt_pred[0]/3600, timestamp_pred"
   ]
  },
  {
   "cell_type": "code",
   "execution_count": 4,
   "metadata": {},
   "outputs": [
    {
     "name": "stderr",
     "output_type": "stream",
     "text": [
      "C:\\ProgramData\\Anaconda3\\lib\\site-packages\\pandas\\core\\frame.py:3391: SettingWithCopyWarning: \n",
      "A value is trying to be set on a copy of a slice from a DataFrame.\n",
      "Try using .loc[row_indexer,col_indexer] = value instead\n",
      "\n",
      "See the caveats in the documentation: http://pandas.pydata.org/pandas-docs/stable/indexing.html#indexing-view-versus-copy\n",
      "  self[k1] = value[k2]\n"
     ]
    },
    {
     "name": "stdout",
     "output_type": "stream",
     "text": [
      "The fan will be turned on now.\n"
     ]
    }
   ],
   "source": [
    "if __name__==\"__main__\":\n",
    "\n",
    "    sample_data = [{\"avgH\":70.92013852,\"avgT\":30.190974419999996,\"blowerCurrent\":0.0,\"entryStartTime\":1594311352000,\"freshAirHumidity\":49.6238441,\"freshAirTemperature\":29.3344917,\"humiAfter0Hour\":0.91,\"humiAfter1Hour\":0.71,\"humiAfter2Hour\":0.62,\"humiAfter3Hour\":0.62,\"humiAfter4Hour\":0.68,\"outdoorHumidity\":60.8217583,\"outdoorTemperature\":26.7881966,\"returnAirHumidity\":54.4270821,\"returnAirTemperature1\":31.765049,\"supplyAirHumidity\":71.09375,\"supplyAirTemperature\":27.598381,\"tempAfter0Hour\":25.79,\"tempAfter1Hour\":25.82,\"tempAfter2Hour\":26.86,\"tempAfter3Hour\":25.9,\"tempAfter4Hour\":25.93,\"time\":1594363961258},{\"avgH\":70.92013852,\"avgT\":30.190974419999996,\"blowerCurrent\":0.0,\"entryStartTime\":1594311352000,\"freshAirHumidity\":49.6238441,\"freshAirTemperature\":29.3344917,\"humiAfter0Hour\":0.91,\"humiAfter1Hour\":0.71,\"humiAfter2Hour\":0.62,\"humiAfter3Hour\":0.62,\"humiAfter4Hour\":0.68,\"outdoorHumidity\":60.8217583,\"outdoorTemperature\":26.7881966,\"returnAirHumidity\":54.4270821,\"returnAirTemperature1\":31.765049,\"supplyAirHumidity\":71.09375,\"supplyAirTemperature\":27.598381,\"tempAfter0Hour\":25.79,\"tempAfter1Hour\":25.82,\"tempAfter2Hour\":26.86,\"tempAfter3Hour\":25.9,\"tempAfter4Hour\":25.93,\"time\":1594363917252},{\"avgH\":70.92013852,\"avgT\":30.190974419999996,\"blowerCurrent\":0.0,\"entryStartTime\":1594311352000,\"freshAirHumidity\":49.6238441,\"freshAirTemperature\":29.3344917,\"humiAfter0Hour\":0.91,\"humiAfter1Hour\":0.71,\"humiAfter2Hour\":0.62,\"humiAfter3Hour\":0.62,\"humiAfter4Hour\":0.68,\"outdoorHumidity\":60.8217583,\"outdoorTemperature\":26.7881966,\"returnAirHumidity\":54.4270821,\"returnAirTemperature1\":31.765049,\"supplyAirHumidity\":71.09375,\"supplyAirTemperature\":27.598381,\"tempAfter0Hour\":25.79,\"tempAfter1Hour\":25.82,\"tempAfter2Hour\":26.86,\"tempAfter3Hour\":25.9,\"tempAfter4Hour\":25.93,\"time\":1594363829262}]\n",
    "    \n",
    "    data_input_pre, entryStartTime_thre_ = real_time_data_pre(sample_data)\n",
    "    today_string = datetime.today().strftime('%Y_%m_%d')\n",
    "    safety_factor = 0.5\n",
    "    \n",
    "    Δt_pred, timestamp_pred = load_model_predict(today_string, data_input_pre,safety_factor)\n",
    "    \n",
    "    if all(items > entryStartTime_thre_[0] for items in timestamp_pred.to_list()):\n",
    "        action_required = 1\n",
    "        print('The fan will be turned on now.')\n",
    "    else:\n",
    "        action_required = 0\n",
    "        print('The fan will remain to be off.')\n",
    "    \n",
    "#     print('现在开机到达标范围所需时间 {} 小时'.format(round(Δt_pred,2)) +'\\n'+\n",
    "#           '达标时间戳： {}'.format(timestamp_pred)+'\\n'+\n",
    "#           '开机时间预测完成')"
   ]
  },
  {
   "cell_type": "code",
   "execution_count": null,
   "metadata": {},
   "outputs": [],
   "source": []
  }
 ],
 "metadata": {
  "kernelspec": {
   "display_name": "Python 3",
   "language": "python",
   "name": "python3"
  },
  "language_info": {
   "codemirror_mode": {
    "name": "ipython",
    "version": 3
   },
   "file_extension": ".py",
   "mimetype": "text/x-python",
   "name": "python",
   "nbconvert_exporter": "python",
   "pygments_lexer": "ipython3",
   "version": "3.7.3"
  }
 },
 "nbformat": 4,
 "nbformat_minor": 2
}
