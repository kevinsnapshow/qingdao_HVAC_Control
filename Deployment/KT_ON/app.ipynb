{
 "cells": [
  {
   "cell_type": "code",
   "execution_count": 4,
   "metadata": {},
   "outputs": [],
   "source": [
    "# !pip freeze > requirements.txt"
   ]
  },
  {
   "cell_type": "code",
   "execution_count": 25,
   "metadata": {
    "scrolled": false
   },
   "outputs": [
    {
     "name": "stdout",
     "output_type": "stream",
     "text": [
      " * Serving Flask app \"__main__\" (lazy loading)\n",
      " * Environment: production\n",
      "   WARNING: Do not use the development server in a production environment.\n",
      "   Use a production WSGI server instead.\n",
      " * Debug mode: off\n"
     ]
    },
    {
     "name": "stderr",
     "output_type": "stream",
     "text": [
      " * Running on http://127.0.0.1:5000/ (Press CTRL+C to quit)\n",
      "127.0.0.1 - - [19/Aug/2020 12:39:54] \"\u001b[37mGET /login HTTP/1.1\u001b[0m\" 200 -\n"
     ]
    }
   ],
   "source": [
    "from flask import Flask\n",
    "from flask import request \n",
    "from datetime import datetime\n",
    "from on_real_pred import real_time_data_pre, load_model_predict\n",
    "\n",
    "app = Flask(__name__)\n",
    "\n",
    "@app.route('/predict', methods=['GET', 'POST'])\n",
    "def do_predict():\n",
    "    \n",
    "    # 使用request解析jason形式的参数：\n",
    "#     name = request.json.get('name')\n",
    "    realtime_data = request.json\n",
    "    \n",
    "    # 定义工业安全系数：\n",
    "    today_string = datetime.today().strftime('%Y_%m_%d')\n",
    "    safety_factor = 0.5\n",
    "    \n",
    "    data_input_pre, entryStartTime_thre_ = real_time_data_pre(realtime_data)\n",
    "    \n",
    "    Δt_pred, timestamp_pred = load_model_predict(today_string, data_input_pre, safety_factor)\n",
    "    \n",
    "    if all(items > entryStartTime_thre_[0] for items in timestamp_pred.to_list()):\n",
    "        action_required = 1\n",
    "        print('The fan will be turned on now.')\n",
    "    else:\n",
    "        action_required = 0\n",
    "        print('The fan will remain to be off.')\n",
    "        \n",
    "    return action_required\n",
    "\n",
    "if __name__ == '__main__':\n",
    "    app.run(debug=True, host='0.0.0.0', port=6500)"
   ]
  }
 ],
 "metadata": {
  "kernelspec": {
   "display_name": "Python 3",
   "language": "python",
   "name": "python3"
  },
  "language_info": {
   "codemirror_mode": {
    "name": "ipython",
    "version": 3
   },
   "file_extension": ".py",
   "mimetype": "text/x-python",
   "name": "python",
   "nbconvert_exporter": "python",
   "pygments_lexer": "ipython3",
   "version": "3.7.3"
  }
 },
 "nbformat": 4,
 "nbformat_minor": 2
}
